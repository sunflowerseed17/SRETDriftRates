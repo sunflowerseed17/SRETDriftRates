{
 "cells": [
  {
   "cell_type": "code",
   "execution_count": null,
   "id": "c81db1f8",
   "metadata": {},
   "outputs": [
    {
     "ename": "",
     "evalue": "",
     "output_type": "error",
     "traceback": [
      "\u001b[1;31mRunning cells with 'base (Python 3.11.4)' requires the ipykernel package.\n",
      "\u001b[1;31m<a href='command:jupyter.createPythonEnvAndSelectController'>Create a Python Environment</a> with the required packages."
     ]
    }
   ],
   "source": [
    "import pandas as pd\n",
    "import matplotlib.pyplot as plt\n",
    "import seaborn as sns"
   ]
  },
  {
   "cell_type": "code",
   "execution_count": null,
   "id": "55741aab",
   "metadata": {},
   "outputs": [
    {
     "ename": "",
     "evalue": "",
     "output_type": "error",
     "traceback": [
      "\u001b[1;31mRunning cells with 'base (Python 3.11.4)' requires the ipykernel package.\n",
      "\u001b[1;31m<a href='command:jupyter.createPythonEnvAndSelectController'>Create a Python Environment</a> with the required packages."
     ]
    }
   ],
   "source": [
    "\n",
    "# Load the drift rates per subject and condition\n",
    "df = pd.read_csv(\"ddm_absolute_drift_subjects_grandmean.csv\")\n",
    "print(df.head(5))\n",
    "print(\"\\nUnique conditions:\", df['Condition'].unique())\n",
    "print(\"\\nDescriptive stats:\\n\", df[['Drift','BDI','LSAS']].describe())\n"
   ]
  },
  {
   "cell_type": "code",
   "execution_count": null,
   "id": "d1ceae7a",
   "metadata": {},
   "outputs": [],
   "source": [
    "import matplotlib.pyplot as plt\n",
    "import seaborn as sns\n",
    "\n",
    "plt.figure(figsize=(8,5))\n",
    "sns.boxplot(data=df, x='Condition', y='Drift', palette=\"Set3\")\n",
    "sns.stripplot(data=df, x='Condition', y='Drift', color='black', alpha=0.6, jitter=0.2)\n",
    "plt.title(\"Drift Rate Distribution by Condition\")\n",
    "plt.axhline(0, color='gray', linestyle='--')\n",
    "plt.xticks(rotation=15)\n",
    "plt.show()"
   ]
  },
  {
   "cell_type": "code",
   "execution_count": null,
   "id": "fbdbaca0",
   "metadata": {},
   "outputs": [],
   "source": [
    "condition_means = df.groupby('Condition')['Drift'].mean()\n",
    "print(condition_means)"
   ]
  },
  {
   "cell_type": "code",
   "execution_count": null,
   "id": "b11217b6",
   "metadata": {},
   "outputs": [],
   "source": [
    "# Prepare data for interaction plot: mean drift per condition\n",
    "mean_df = df.groupby(['Condition']).agg({'Drift':'mean'}).reset_index()\n",
    "# Add factors for plotting\n",
    "mean_df['Valence'] = mean_df['Condition'].apply(lambda x: 'Positive' if 'positive' in x else 'Negative')\n",
    "mean_df['Axis'] = mean_df['Condition'].apply(lambda x: 'Affiliation' if 'affiliation' in x else 'Dominance')\n",
    "\n",
    "# Pivot to matrix of means for plotting\n",
    "mean_matrix = mean_df.pivot(index='Axis', columns='Valence', values='Drift')\n",
    "print(mean_matrix)  # to see values\n",
    "\n",
    "# Plot interaction: Valence on x, Drift on y, separate lines for Axis\n",
    "fig, ax = plt.subplots(figsize=(5,4))\n",
    "axes = ['Affiliation','Dominance']\n",
    "valences = ['Negative','Positive']\n",
    "colors = {'Affiliation':'teal','Dominance':'orange'}\n",
    "for axis in axes:\n",
    "    ax.plot(valences, [mean_matrix.loc[axis, v] for v in valences], marker='o', label=axis, color=colors[axis])\n",
    "    ax.fill_between(valences,  # dummy approach to add error bands if needed\n",
    "                    [mean_matrix.loc[axis, v] for v in valences],\n",
    "                    [mean_matrix.loc[axis, v] for v in valences], color=colors[axis], alpha=0.1)\n",
    "ax.axhline(0, color='gray', linestyle='--')\n",
    "ax.set_ylabel(\"Mean Drift Rate\")\n",
    "ax.set_title(\"Interaction of Valence and Circumplex Axis on Drift\")\n",
    "ax.legend(title=\"Axis\")\n",
    "plt.show()\n"
   ]
  },
  {
   "cell_type": "code",
   "execution_count": null,
   "id": "c4ffd25e",
   "metadata": {},
   "outputs": [],
   "source": [
    "import numpy as np\n",
    "# Compute per-subject mean drifts for positive and negative conditions\n",
    "subj_means = df.pivot(index='Subject', columns='Condition', values='Drift')\n",
    "subj_means['pos_mean'] = subj_means[['positive_highaffiliation','positive_highdominance']].mean(axis=1)\n",
    "subj_means['neg_mean'] = subj_means[['negative_lowaffiliation','negative_lowdominance']].mean(axis=1)\n",
    "subj_means['valence_diff'] = subj_means['pos_mean'] - subj_means['neg_mean']\n",
    "subj_means = subj_means.merge(df[['Subject','BDI','LSAS']].drop_duplicates(), on='Subject')\n",
    "\n",
    "# Correlation between BDI and drifts\n",
    "from scipy.stats import pearsonr\n",
    "print(\"BDI vs pos_mean:\", pearsonr(subj_means['pos_mean'], subj_means['BDI']))\n",
    "print(\"BDI vs neg_mean:\", pearsonr(subj_means['neg_mean'], subj_means['BDI']))\n",
    "print(\"BDI vs valence_diff (pos-minus-neg):\", pearsonr(subj_means['valence_diff'], subj_means['BDI']))\n"
   ]
  },
  {
   "cell_type": "code",
   "execution_count": null,
   "id": "65ffe6ba",
   "metadata": {},
   "outputs": [],
   "source": [
    "# Double-check subject-wise average drifts\n",
    "valence_df = df.copy()\n",
    "valence_df['Valence'] = valence_df['Condition'].apply(lambda x: 'Positive' if 'positive' in x else 'Negative')\n",
    "\n",
    "# Compute per-subject average drift for positive/negative\n",
    "valence_means = valence_df.groupby(['Subject', 'Valence'])['Drift'].mean().unstack()\n",
    "valence_means['valence_diff'] = valence_means['Positive'] - valence_means['Negative']\n",
    "\n",
    "# Merge with BDI\n",
    "valence_means = valence_means.merge(df[['Subject', 'BDI']].drop_duplicates(), on='Subject')\n",
    "\n",
    "# Plot\n",
    "sns.regplot(data=valence_means, x='BDI', y='valence_diff', lowess=True, line_kws={'color': 'red'})\n",
    "plt.title(\"BDI vs Valence Drift Difference (Positive - Negative)\")\n",
    "plt.xlabel(\"BDI (Depression Score)\")\n",
    "plt.ylabel(\"Valence Drift Difference\")\n",
    "plt.axhline(0, linestyle='--', color='gray')\n",
    "plt.show()"
   ]
  },
  {
   "cell_type": "code",
   "execution_count": null,
   "id": "a089a8e1",
   "metadata": {},
   "outputs": [],
   "source": [
    "import statsmodels.formula.api as smf\n",
    "model = smf.ols(\"valence_diff ~ BDI + LSAS\", data=subj_means).fit()\n",
    "print(model.summary().tables[1])"
   ]
  },
  {
   "cell_type": "code",
   "execution_count": null,
   "id": "373d044e",
   "metadata": {},
   "outputs": [],
   "source": [
    "print(\"LSAS vs pos_mean:\", pearsonr(subj_means['pos_mean'], subj_means['LSAS']))\n",
    "print(\"LSAS vs neg_mean:\", pearsonr(subj_means['neg_mean'], subj_means['LSAS']))\n",
    "print(\"LSAS vs valence_diff:\", pearsonr(subj_means['valence_diff'], subj_means['LSAS']))\n"
   ]
  },
  {
   "cell_type": "code",
   "execution_count": null,
   "id": "1c939fda",
   "metadata": {},
   "outputs": [],
   "source": [
    "# Scatter of LSAS vs drift in dominance conditions\n",
    "plt.figure(figsize=(7, 5))\n",
    "sns.regplot(data=subj_means, x='LSAS', y='positive_highdominance', lowess=True,\n",
    "            scatter_kws={'alpha': 0.6}, line_kws={'color': 'blue'}, label='Positive HighDominance')\n",
    "\n",
    "sns.regplot(data=subj_means, x='LSAS', y='negative_lowdominance', lowess=True,\n",
    "            scatter_kws={'alpha': 0.6}, line_kws={'color': 'red'}, label='Negative LowDominance')\n",
    "\n",
    "plt.xlabel(\"LSAS (Social Anxiety Score)\")\n",
    "plt.ylabel(\"Drift Rate\")\n",
    "plt.title(\"LSAS vs Drift in Dominance-related Conditions\")\n",
    "plt.legend()\n",
    "plt.show()"
   ]
  },
  {
   "cell_type": "code",
   "execution_count": null,
   "id": "4f5fe27d",
   "metadata": {},
   "outputs": [],
   "source": [
    "# Multiple regression: overall mean drift ~ BDI + LSAS\n",
    "subj_means['drift_mean'] = subj_means[['pos_mean','neg_mean']].mean(axis=1)\n",
    "model2 = smf.ols(\"drift_mean ~ BDI + LSAS\", data=subj_means).fit()\n",
    "print(model2.summary().tables[1])\n"
   ]
  },
  {
   "cell_type": "code",
   "execution_count": null,
   "id": "54e0f9fd",
   "metadata": {},
   "outputs": [],
   "source": [
    "# Label Circumplex axis\n",
    "df['Axis'] = df['Condition'].apply(lambda x: 'Affiliation' if 'affiliation' in x else 'Dominance')\n",
    "\n",
    "# Compute per-subject average drift for each Axis\n",
    "axis_means = df.groupby(['Subject', 'Axis'])['Drift'].mean().unstack()\n",
    "axis_means['axis_diff'] = axis_means['Affiliation'] - axis_means['Dominance']\n",
    "\n",
    "# Merge with clinical data\n",
    "axis_means = axis_means.merge(df[['Subject', 'BDI', 'LSAS']].drop_duplicates(), on='Subject')\n",
    "\n",
    "# Plot\n",
    "sns.regplot(data=axis_means, x='BDI', y='axis_diff', lowess=True, line_kws={'color': 'green'})\n",
    "plt.title(\"BDI vs Drift Difference (Affiliation - Dominance)\")\n",
    "plt.xlabel(\"BDI (Depression Score)\")\n",
    "plt.ylabel(\"Axis Drift Difference\")\n",
    "plt.axhline(0, linestyle='--', color='gray')\n",
    "plt.show()\n"
   ]
  },
  {
   "cell_type": "code",
   "execution_count": null,
   "id": "bd7cb631",
   "metadata": {},
   "outputs": [],
   "source": [
    "import statsmodels.formula.api as smf\n",
    "\n",
    "# Regression: valence difference\n",
    "model_val = smf.ols(\"valence_diff ~ BDI + LSAS\", data=valence_means).fit()\n",
    "print(model_val.summary())\n",
    "\n",
    "# Regression: axis differencep\n",
    "model_axis = smf.ols(\"axis_diff ~ BDI + LSAS\", data=axis_means).fit()\n",
    "print(model_axis.summary())\n"
   ]
  }
 ],
 "metadata": {
  "kernelspec": {
   "display_name": "base",
   "language": "python",
   "name": "python3"
  },
  "language_info": {
   "codemirror_mode": {
    "name": "ipython",
    "version": 3
   },
   "file_extension": ".py",
   "mimetype": "text/x-python",
   "name": "python",
   "nbconvert_exporter": "python",
   "pygments_lexer": "ipython3",
   "version": "3.11.4"
  }
 },
 "nbformat": 4,
 "nbformat_minor": 5
}
